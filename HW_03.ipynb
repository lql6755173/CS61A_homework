{
 "cells": [
  {
   "cell_type": "markdown",
   "metadata": {},
   "source": [
    "## Q1: Num sevens"
   ]
  },
  {
   "cell_type": "code",
   "execution_count": 13,
   "metadata": {},
   "outputs": [],
   "source": [
    "def num_sevens(x):\n",
    "    \"\"\"Returns the number of times 7 appears as a digit of x.\n",
    "\n",
    "    >>> num_sevens(3)\n",
    "    0\n",
    "    >>> num_sevens(7)\n",
    "    1\n",
    "    >>> num_sevens(7777777)\n",
    "    7\n",
    "    >>> num_sevens(2637)\n",
    "    1\n",
    "    >>> num_sevens(76370)\n",
    "    2\n",
    "    >>> num_sevens(12345)\n",
    "    0\n",
    "    >>> from construct_check import check\n",
    "    >>> # ban all assignment statements\n",
    "    >>> check(HW_SOURCE_FILE, 'num_sevens',\n",
    "    ...       ['Assign', 'AugAssign'])\n",
    "    True\n",
    "    \"\"\"\n",
    "    if x % 10 == 7:\n",
    "        return 1 + num_sevens(x // 10)\n",
    "    elif x < 10:\n",
    "        return 0\n",
    "    else:\n",
    "        return num_sevens(x // 10)"
   ]
  },
  {
   "cell_type": "code",
   "execution_count": 5,
   "metadata": {},
   "outputs": [
    {
     "data": {
      "text/plain": [
       "7"
      ]
     },
     "execution_count": 5,
     "metadata": {},
     "output_type": "execute_result"
    }
   ],
   "source": [
    "num_sevens(7777777)"
   ]
  },
  {
   "cell_type": "markdown",
   "metadata": {},
   "source": [
    "## Q2: Ping-pong"
   ]
  },
  {
   "cell_type": "code",
   "execution_count": 15,
   "metadata": {},
   "outputs": [],
   "source": [
    "#state = True\n",
    "def state(sta,i):\n",
    "    if (i%7==0) or(num_sevens(i)>0):\n",
    "        return not sta\n",
    "    return sta"
   ]
  },
  {
   "cell_type": "code",
   "execution_count": 35,
   "metadata": {},
   "outputs": [],
   "source": [
    "def pingpong(n):\n",
    "    i = 1\n",
    "    j = 1\n",
    "    sta = True\n",
    "    while i < n:\n",
    "        i += 1\n",
    "        sta = state(sta,i)\n",
    "        if sta:\n",
    "            j += 1\n",
    "        else:\n",
    "            j -= 1\n",
    "    return j  "
   ]
  },
  {
   "cell_type": "code",
   "execution_count": 18,
   "metadata": {},
   "outputs": [],
   "source": [
    "lis=[]\n",
    "sta = True\n",
    "for i in range(1,20):\n",
    "    lis.append(state(sta,i))"
   ]
  },
  {
   "cell_type": "code",
   "execution_count": 19,
   "metadata": {},
   "outputs": [
    {
     "data": {
      "text/plain": [
       "[True,\n",
       " True,\n",
       " True,\n",
       " True,\n",
       " True,\n",
       " True,\n",
       " False,\n",
       " True,\n",
       " True,\n",
       " True,\n",
       " True,\n",
       " True,\n",
       " True,\n",
       " False,\n",
       " True,\n",
       " True,\n",
       " False,\n",
       " True,\n",
       " True]"
      ]
     },
     "execution_count": 19,
     "metadata": {},
     "output_type": "execute_result"
    }
   ],
   "source": [
    "lis"
   ]
  },
  {
   "cell_type": "code",
   "execution_count": 37,
   "metadata": {},
   "outputs": [
    {
     "data": {
      "text/plain": [
       "6"
      ]
     },
     "execution_count": 37,
     "metadata": {},
     "output_type": "execute_result"
    }
   ],
   "source": [
    "pingpong(30)"
   ]
  },
  {
   "cell_type": "code",
   "execution_count": 11,
   "metadata": {},
   "outputs": [],
   "source": [
    "def pingpong(n):\n",
    "    \"\"\"Return the nth element of the ping-pong sequence.\n",
    "\n",
    "    >>> pingpong(7)\n",
    "    7\n",
    "    >>> pingpong(8)\n",
    "    6\n",
    "    >>> pingpong(15)\n",
    "    1\n",
    "    >>> pingpong(21)\n",
    "    -1\n",
    "    >>> pingpong(22)\n",
    "    0\n",
    "    >>> pingpong(30)\n",
    "    6\n",
    "    >>> pingpong(68)\n",
    "    2\n",
    "    >>> pingpong(69)\n",
    "    1\n",
    "    >>> pingpong(70)\n",
    "    0\n",
    "    >>> pingpong(71)\n",
    "    1\n",
    "    >>> pingpong(72)\n",
    "    0\n",
    "    >>> pingpong(100)\n",
    "    2\n",
    "    >>> from construct_check import check\n",
    "    >>> # ban assignment statements\n",
    "    >>> check(HW_SOURCE_FILE, 'pingpong', ['Assign', 'AugAssign'])\n",
    "    True\n",
    "    \"\"\"\n",
    "    def helper(result, i, step):\n",
    "        if i == n:\n",
    "            return result\n",
    "        elif i % 7 == 0 or num_sevens(i) > 0:\n",
    "            return helper(result - step, i + 1, -step)\n",
    "        else:\n",
    "            return helper(result + step, i + 1, step)\n",
    "    return helper(1, 1, 1)"
   ]
  },
  {
   "cell_type": "code",
   "execution_count": 15,
   "metadata": {},
   "outputs": [
    {
     "data": {
      "text/plain": [
       "-1"
      ]
     },
     "execution_count": 15,
     "metadata": {},
     "output_type": "execute_result"
    }
   ],
   "source": [
    "pingpong(21)"
   ]
  },
  {
   "cell_type": "code",
   "execution_count": 19,
   "metadata": {},
   "outputs": [],
   "source": [
    "def pingpong1(n):\n",
    "    \"\"\"Return the nth element of the ping-pong sequence.\n",
    "\n",
    "    >>> pingpong(7)\n",
    "    7\n",
    "    >>> pingpong(8)\n",
    "    6\n",
    "    >>> pingpong(15)\n",
    "    1\n",
    "    >>> pingpong(21)\n",
    "    -1\n",
    "    >>> pingpong(22)\n",
    "    0\n",
    "    >>> pingpong(30)\n",
    "    6\n",
    "    >>> pingpong(68)\n",
    "    2\n",
    "    >>> pingpong(69)\n",
    "    1\n",
    "    >>> pingpong(70)\n",
    "    0\n",
    "    >>> pingpong(71)\n",
    "    1\n",
    "    >>> pingpong(72)\n",
    "    0\n",
    "    >>> pingpong(100)\n",
    "    2\n",
    "    >>> from construct_check import check\n",
    "    >>> # ban assignment statements\n",
    "    >>> check(HW_SOURCE_FILE, 'pingpong', ['Assign', 'AugAssign'])\n",
    "    True\n",
    "    \"\"\"\n",
    "\n",
    "    def pingpong_next(x, i, step):\n",
    "        if i == n:\n",
    "            return x\n",
    "        return pingpong_next(x + step, i + 1, next_dir(step, i+1))\n",
    "\n",
    "    def next_dir(step, i):\n",
    "        if i % 7 == 0 or num_sevens(i) > 0:\n",
    "            return -step\n",
    "        return step"
   ]
  },
  {
   "cell_type": "code",
   "execution_count": 20,
   "metadata": {},
   "outputs": [],
   "source": [
    "pingpong1(21)"
   ]
  },
  {
   "cell_type": "markdown",
   "metadata": {},
   "source": [
    "## Q3: Count change"
   ]
  },
  {
   "cell_type": "markdown",
   "metadata": {},
   "source": [
    "## 示例"
   ]
  },
  {
   "cell_type": "code",
   "execution_count": null,
   "metadata": {},
   "outputs": [],
   "source": [
    "6 = 2 + 4\n",
    "6 = 1 + 1 + 4\n",
    "6 = 3 + 3\n",
    "6 = 1 + 2 + 3\n",
    "6 = 1 + 1 + 1 + 3\n",
    "6 = 2 + 2 + 2\n",
    "6 = 1 + 1 + 2 + 2\n",
    "6 = 1 + 1 + 1 + 1 + 2\n",
    "6 = 1 + 1 + 1 + 1 + 1 + 1"
   ]
  },
  {
   "cell_type": "code",
   "execution_count": 4,
   "metadata": {},
   "outputs": [],
   "source": [
    "def count_partitions(n, m):\n",
    "    \"\"\"Count the ways to partition n using parts up to m.\"\"\"\n",
    "    if n == 0:\n",
    "        return 1\n",
    "    elif n < 0:\n",
    "        return 0\n",
    "    elif m == 0:\n",
    "        return 0\n",
    "    else:\n",
    "        return count_partitions(n-m, m) + count_partitions(n, m-1) \n",
    "# 精髓在哪个n-m，相当于强制要求count_partitions(n-m, m)这个函数的配对中必须至少有一个m"
   ]
  },
  {
   "cell_type": "markdown",
   "metadata": {},
   "source": [
    "## Count change"
   ]
  },
  {
   "cell_type": "code",
   "execution_count": null,
   "metadata": {},
   "outputs": [],
   "source": [
    "7 1-cent coins\n",
    "5 1-cent, 1 2-cent coins\n",
    "3 1-cent, 2 2-cent coins\n",
    "3 1-cent, 1 4-cent coins\n",
    "1 1-cent, 3 2-cent coins\n",
    "1 1-cent, 1 2-cent, 1 4-cent coins"
   ]
  },
  {
   "cell_type": "code",
   "execution_count": 8,
   "metadata": {},
   "outputs": [],
   "source": [
    "def count_change(total):\n",
    "    \"\"\"Return the number of ways to make change for total.\n",
    "\n",
    "    >>> count_change(7)\n",
    "    6\n",
    "    >>> count_change(10)\n",
    "    14\n",
    "    >>> count_change(20)\n",
    "    60\n",
    "    >>> count_change(100)\n",
    "    9828\n",
    "    >>> from construct_check import check\n",
    "    >>> # ban iteration\n",
    "    >>> check(HW_SOURCE_FILE, 'count_change', ['While', 'For'])\n",
    "    True\n",
    "    \"\"\"\n",
    "    def constrained_count(total, smallest_coin):\n",
    "        if total == 0:\n",
    "            return 1\n",
    "        if smallest_coin > total:\n",
    "            return 0\n",
    "        without_coin = constrained_count(total, smallest_coin * 2)             \n",
    "        #所有最小元素为smallest_coin*2的排列组合（所有组合中不一定有smallest_coin*2）\n",
    "        with_coin = constrained_count(total - smallest_coin, smallest_coin)    \n",
    "        #所有最小元素为smallest_coin的排列组合（一定要有smallest_coin）\n",
    "        #——像金字塔从底往上摞\n",
    "        return without_coin + with_coin\n",
    "    return constrained_count(total, 1)"
   ]
  },
  {
   "cell_type": "code",
   "execution_count": 9,
   "metadata": {},
   "outputs": [
    {
     "data": {
      "text/plain": [
       "9828"
      ]
     },
     "execution_count": 9,
     "metadata": {},
     "output_type": "execute_result"
    }
   ],
   "source": [
    "count_change(100)"
   ]
  },
  {
   "cell_type": "markdown",
   "metadata": {},
   "source": [
    "## Q4: Missing Digits"
   ]
  },
  {
   "cell_type": "code",
   "execution_count": 48,
   "metadata": {},
   "outputs": [],
   "source": [
    "def missing_digits(n):\n",
    "    \"\"\"Given a number a that is in sorted, increasing order,\n",
    "    return the number of missing digits in n. A missing digit is\n",
    "    a number between the first and last digit of a that is not in n.\n",
    "    >>> missing_digits(1248) # 3, 5, 6, 7\n",
    "    4\n",
    "    >>> missing_digits(1122) # No missing numbers\n",
    "    0\n",
    "    >>> missing_digits(123456) # No missing numbers\n",
    "    0\n",
    "    >>> missing_digits(3558) # 4, 6, 7\n",
    "    3\n",
    "    >>> missing_digits(4) # No missing numbers between 4 and 4\n",
    "    0\n",
    "    >>> from construct_check import check\n",
    "    >>> # ban while or for loops\n",
    "    >>> check(HW_SOURCE_FILE, 'missing_digits', ['While', 'For'])\n",
    "    True\n",
    "    \"\"\"\n",
    "    if n < 10:\n",
    "        return 0\n",
    "    elif n % 10 - n // 10 % 10 == 0:\n",
    "        return missing_digits(n // 10)       \n",
    "    else:\n",
    "        return n % 10 - n // 10 % 10 -1 + missing_digits(n // 10)"
   ]
  },
  {
   "cell_type": "code",
   "execution_count": 49,
   "metadata": {},
   "outputs": [
    {
     "data": {
      "text/plain": [
       "4"
      ]
     },
     "execution_count": 49,
     "metadata": {},
     "output_type": "execute_result"
    }
   ],
   "source": [
    "missing_digits(1248)"
   ]
  },
  {
   "cell_type": "code",
   "execution_count": 54,
   "metadata": {},
   "outputs": [
    {
     "data": {
      "text/plain": [
       "4"
      ]
     },
     "execution_count": 54,
     "metadata": {},
     "output_type": "execute_result"
    }
   ],
   "source": [
    "missing_digits(166)"
   ]
  },
  {
   "cell_type": "code",
   "execution_count": 56,
   "metadata": {},
   "outputs": [
    {
     "data": {
      "text/plain": [
       "3"
      ]
     },
     "execution_count": 56,
     "metadata": {},
     "output_type": "execute_result"
    }
   ],
   "source": [
    "missing_digits(3558)"
   ]
  },
  {
   "cell_type": "code",
   "execution_count": 57,
   "metadata": {},
   "outputs": [],
   "source": [
    "#答案更精简\n",
    "def missing_digits(n):\n",
    "    if n < 10:     \n",
    "        return 0      \n",
    "    last, rest = n % 10, n // 10    \n",
    "    return max(last - rest % 10 - 1, 0) + missing_digits(rest)"
   ]
  },
  {
   "cell_type": "code",
   "execution_count": null,
   "metadata": {},
   "outputs": [],
   "source": []
  }
 ],
 "metadata": {
  "kernelspec": {
   "display_name": "Python 3",
   "language": "python",
   "name": "python3"
  },
  "language_info": {
   "codemirror_mode": {
    "name": "ipython",
    "version": 3
   },
   "file_extension": ".py",
   "mimetype": "text/x-python",
   "name": "python",
   "nbconvert_exporter": "python",
   "pygments_lexer": "ipython3",
   "version": "3.6.4"
  }
 },
 "nbformat": 4,
 "nbformat_minor": 2
}
