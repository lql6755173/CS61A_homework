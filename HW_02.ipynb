{
 "cells": [
  {
   "cell_type": "markdown",
   "metadata": {},
   "source": [
    "# Homework 2: Higher Order Functions"
   ]
  },
  {
   "cell_type": "code",
   "execution_count": 1,
   "metadata": {},
   "outputs": [],
   "source": [
    "from operator import add, mul, sub\n",
    "square = lambda x: x * x\n",
    "identity = lambda x: x\n",
    "triple = lambda x: 3 * x\n",
    "increment = lambda x: x + 1"
   ]
  },
  {
   "cell_type": "code",
   "execution_count": 2,
   "metadata": {},
   "outputs": [
    {
     "data": {
      "text/plain": [
       "162"
      ]
     },
     "execution_count": 2,
     "metadata": {},
     "output_type": "execute_result"
    }
   ],
   "source": [
    "# Q1: Product\n",
    "def product(n, f):\n",
    "    a = 1\n",
    "    for i in range(1,n+1):\n",
    "        a = a*f(i)\n",
    "    return a\n",
    "\n",
    "product(3, triple)"
   ]
  },
  {
   "cell_type": "code",
   "execution_count": 3,
   "metadata": {},
   "outputs": [
    {
     "data": {
      "text/plain": [
       "58"
      ]
     },
     "execution_count": 3,
     "metadata": {},
     "output_type": "execute_result"
    }
   ],
   "source": [
    "# Q2: Accumulate\n",
    "def accumulate(combiner, base, n, f):\n",
    "    a = base\n",
    "    for i in range(1,n+1):\n",
    "        a = combiner(a,f(i))\n",
    "    return a\n",
    "\n",
    "accumulate(lambda x, y: 2 * (x + y), 2, 3, square)"
   ]
  },
  {
   "cell_type": "code",
   "execution_count": 4,
   "metadata": {},
   "outputs": [
    {
     "data": {
      "text/plain": [
       "45"
      ]
     },
     "execution_count": 4,
     "metadata": {},
     "output_type": "execute_result"
    }
   ],
   "source": [
    "def summation_using_accumulate(n, f):\n",
    "    return accumulate(add, 0, n, f)\n",
    "\n",
    "summation_using_accumulate(5, triple)"
   ]
  },
  {
   "cell_type": "code",
   "execution_count": 5,
   "metadata": {},
   "outputs": [
    {
     "data": {
      "text/plain": [
       "524880"
      ]
     },
     "execution_count": 5,
     "metadata": {},
     "output_type": "execute_result"
    }
   ],
   "source": [
    "def product_using_accumulate(n, f):\n",
    "    return accumulate(mul, 1, n, f)\n",
    "\n",
    "product_using_accumulate(6, triple)"
   ]
  },
  {
   "cell_type": "code",
   "execution_count": 6,
   "metadata": {},
   "outputs": [
    {
     "data": {
      "text/plain": [
       "243"
      ]
     },
     "execution_count": 6,
     "metadata": {},
     "output_type": "execute_result"
    }
   ],
   "source": [
    "#Q3: Make Repeater\n",
    "def compose1(h, g):\n",
    "    \"\"\"Return a function f, such that f(x) = h(g(x)).\"\"\"\n",
    "    def f(x):\n",
    "        return h(g(x))\n",
    "    return f\n",
    "\n",
    "def make_repeater(h, n):\n",
    "    g = identity\n",
    "    while n > 0:\n",
    "        g = compose1(h, g)\n",
    "        n = n - 1\n",
    "    return g \n",
    "\n",
    "make_repeater(triple, 5)(1)"
   ]
  },
  {
   "cell_type": "code",
   "execution_count": 7,
   "metadata": {},
   "outputs": [
    {
     "data": {
      "text/plain": [
       "152587890625"
      ]
     },
     "execution_count": 7,
     "metadata": {},
     "output_type": "execute_result"
    }
   ],
   "source": [
    "def make_repeater2(h, n):\n",
    "    return accumulate(compose1, lambda x: x, n, lambda k: h)\n",
    "\n",
    "make_repeater2(square, 4)(5)"
   ]
  },
  {
   "cell_type": "code",
   "execution_count": null,
   "metadata": {},
   "outputs": [],
   "source": []
  }
 ],
 "metadata": {
  "kernelspec": {
   "display_name": "Python 3",
   "language": "python",
   "name": "python3"
  },
  "language_info": {
   "codemirror_mode": {
    "name": "ipython",
    "version": 3
   },
   "file_extension": ".py",
   "mimetype": "text/x-python",
   "name": "python",
   "nbconvert_exporter": "python",
   "pygments_lexer": "ipython3",
   "version": "3.6.4"
  }
 },
 "nbformat": 4,
 "nbformat_minor": 2
}
